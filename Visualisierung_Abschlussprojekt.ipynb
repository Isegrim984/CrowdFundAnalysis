{
 "cells": [
  {
   "cell_type": "code",
   "execution_count": null,
   "metadata": {
    "ExecuteTime": {
     "end_time": "2021-11-18T10:56:24.323069Z",
     "start_time": "2021-11-18T10:56:24.317087Z"
    }
   },
   "outputs": [],
   "source": [
    "#Bibliotheken laden\n",
    "import numpy as np\n",
    "import pandas as pd\n",
    "import seaborn as sns\n",
    "import matplotlib.pyplot as plt\n",
    "import plotly_express as px\n",
    "import plotly.graph_objects as go\n",
    "from plotly.subplots import make_subplots\n",
    "from plotly.offline import init_notebook_mode, iplot\n",
    "init_notebook_mode(connected=True)"
   ]
  },
  {
   "cell_type": "code",
   "execution_count": null,
   "metadata": {
    "ExecuteTime": {
     "end_time": "2021-11-18T08:14:15.986772Z",
     "start_time": "2021-11-18T08:14:15.801696Z"
    }
   },
   "outputs": [],
   "source": [
    "# Datensatz einlesen\n",
    "df_funds = pd.read_pickle('funds_after_preprocessing.pkl')\n",
    "df_funds.head()"
   ]
  },
  {
   "cell_type": "markdown",
   "metadata": {},
   "source": [
    "# Finanzierungsstatus aller Projekte"
   ]
  },
  {
   "cell_type": "code",
   "execution_count": null,
   "metadata": {
    "ExecuteTime": {
     "end_time": "2021-11-18T08:17:15.146339Z",
     "start_time": "2021-11-18T08:17:15.092806Z"
    },
    "scrolled": true
   },
   "outputs": [],
   "source": [
    "# Pie Chart der Erfolgsraten\n",
    "df_status = df_funds.groupby(['funding_status'], as_index=False).agg(anzahl=('funding_status', 'size'),\n",
    "                                                                     Zielbetrag_gesamt = ('loan_amount', 'sum'),\n",
    "                                                                     ausgezahlt_gesamt = ('funded_amount', 'sum'),\n",
    "                                                                     Differenz = ('difference_amount', 'sum')\n",
    "                                                                    )\n",
    "df_status"
   ]
  },
  {
   "cell_type": "code",
   "execution_count": null,
   "metadata": {
    "ExecuteTime": {
     "end_time": "2021-11-18T08:17:40.606318Z",
     "start_time": "2021-11-18T08:17:40.596344Z"
    }
   },
   "outputs": [],
   "source": [
    "print(sum(df_status['ausgezahlt_gesamt'])) # Summe der ausgezahlten Beträge\n",
    "print(sum(df_status['Differenz'])) # Summe der Differenzbeträge\n",
    "print(sum(df_status['Differenz'])/sum(df_status['ausgezahlt_gesamt']))"
   ]
  },
  {
   "cell_type": "code",
   "execution_count": null,
   "metadata": {
    "ExecuteTime": {
     "end_time": "2021-11-18T14:38:29.858462Z",
     "start_time": "2021-11-18T14:38:29.806601Z"
    }
   },
   "outputs": [],
   "source": [
    "fig = px.pie(df_status, \n",
    "             values='anzahl', \n",
    "             names='funding_status',\n",
    "             color='funding_status',\n",
    "             color_discrete_map={'unfunded':'red',\n",
    "                                 'partially funded':'orange',\n",
    "                                 'funded':'green',\n",
    "                                 'overfunded':'purple'},\n",
    "             title='Bewertung: Übersicht Finanzierungsstatus aller Projekte'\n",
    "            )\n",
    "fig.show()"
   ]
  },
  {
   "cell_type": "markdown",
   "metadata": {},
   "source": [
    "Die Grafik veranschaulicht: erfolgreich finanzierte Projekte haben einen Anteil  von 92,8%, andere 7,2%. \n",
    "\n",
    "Differenzbeträge zeigen, dass **insgesamt knapp 38 Millionen \\\\$ nicht investiert wurden** und ist auch vielleicht ein Hinweis darauf, **wieviel Provision verloren ging**. Auch wenn es keine Angabe zur Provision gibt, wird höchstwahrscheinlich eine höhere Provision fällig bei erfolgreicher Finanzierung, die auch noch gestaffelt ist je nach Finanzierungsbetrag. Ähnlich wie bei Ebay wird eine Verkaufsprovision erhoben, wenn der Artikel verkauft wurde und keine, wenn der Artikel nicht verkauft wurde."
   ]
  },
  {
   "cell_type": "markdown",
   "metadata": {},
   "source": [
    "# Einblick in teilweise oder nichtfinanzierte Projekte\n",
    "Im Folgenden werden die nicht erfolgreich finanzierten Projekte näher angeschaut. Zunächst werden Kategorien vergeben, die eine Spanne des angeforderten Geldbetrags darstellen.  \n",
    "Die **Betragskategorien** sind wie folgt:\n",
    "- <1000\\$, \n",
    "- 1000...9999\\$\n",
    "- 10k...19999\\$\n",
    "- 20k...99999$\n",
    "- 100k\\$"
   ]
  },
  {
   "cell_type": "code",
   "execution_count": null,
   "metadata": {
    "ExecuteTime": {
     "end_time": "2021-11-18T08:22:41.582570Z",
     "start_time": "2021-11-18T08:22:41.540844Z"
    }
   },
   "outputs": [],
   "source": [
    "# Erstellung der Betragskategorien\n",
    "kategorien = ['<1000', '1000...9999', '10k...19999', '20k...99999', '100k']\n",
    "\n",
    "einteilung = [0,999,9999,19999,99999,np.inf] # np.inf als max\n",
    "# ein Wert mehr als Kategorien: 0\n",
    "\n",
    "df_funds['Betragskategorie'] = pd.cut(df_funds['loan_amount'], bins=einteilung, labels=kategorien)\n",
    "df_funds['Betragskategorie'].unique()"
   ]
  },
  {
   "cell_type": "code",
   "execution_count": null,
   "metadata": {
    "ExecuteTime": {
     "end_time": "2021-11-18T12:55:43.601290Z",
     "start_time": "2021-11-18T12:55:43.574362Z"
    }
   },
   "outputs": [],
   "source": [
    "# Check, ob das passt\n",
    "df_funds.loc[(df_funds['success_rate']<100) & (df_funds['success_rate']>80), ['success_rate']]"
   ]
  },
  {
   "cell_type": "markdown",
   "metadata": {},
   "source": [
    "Des Weiteren wird eine Erfolgskategorie eingeführt, um die Erfolgsquote gruppieren zu können:\n",
    "Die **Erfolgskategorien** sind wie folgt:\n",
    "- <1%, \n",
    "- 1...<20%\n",
    "- 20...<40\n",
    "- 40...<60%\n",
    "- 60...<80%\n",
    "- 80...<100%\n",
    "- 100%"
   ]
  },
  {
   "cell_type": "code",
   "execution_count": null,
   "metadata": {
    "ExecuteTime": {
     "end_time": "2021-11-18T13:06:37.902985Z",
     "start_time": "2021-11-18T13:06:37.871197Z"
    }
   },
   "outputs": [],
   "source": [
    "# Erstellung der Erfolgskategorien\n",
    "kategorien = ['<1', '1...<20', '20...<40', '40...<60', '60...<80', '80...<100', '100']\n",
    "\n",
    "einteilung = [-1,0.999999,19.999999,39.999999,59.999999,79.999999, 99.999999, np.inf] # np.inf als max\n",
    "# ein Wert mehr als Kategorien: 0\n",
    "\n",
    "df_funds['Erfolgskategorie'] = pd.cut(df_funds['success_rate'], bins=einteilung, labels=kategorien)\n",
    "df_funds['Erfolgskategorie'].unique()\n"
   ]
  },
  {
   "cell_type": "code",
   "execution_count": null,
   "metadata": {
    "ExecuteTime": {
     "end_time": "2021-11-18T08:22:49.237760Z",
     "start_time": "2021-11-18T08:22:48.947986Z"
    }
   },
   "outputs": [],
   "source": [
    "# Erstelle Spalte mit 1 für mindestens 100% Efolg, 0 für weniger als 100% Erfolgsrate\n",
    "l_erfolgreich = []\n",
    "for i in df_funds['success_rate']:\n",
    "    if i >= 100:\n",
    "        l_erfolgreich.append(1)\n",
    "    else:\n",
    "        l_erfolgreich.append(0)\n",
    "df_funds['erfolgreich'] = l_erfolgreich"
   ]
  },
  {
   "cell_type": "code",
   "execution_count": null,
   "metadata": {
    "ExecuteTime": {
     "end_time": "2021-11-18T08:22:57.493560Z",
     "start_time": "2021-11-18T08:22:57.428975Z"
    }
   },
   "outputs": [],
   "source": [
    "# Gruppierte Projekte nach Betragskategorie, wieviel gesamt, wieviel erfolgrich\n",
    "df_betrag = df_funds.groupby('Betragskategorie', as_index=False).agg(Gesamt=('Betragskategorie', 'size'),\n",
    "                                                                     Erfolg=('erfolgreich', 'sum'),\n",
    "                                                                     Zielbetrag_gesamt=('loan_amount', 'sum'),\n",
    "                                                                     Ausgezahlt_gesamt=('funded_amount', 'sum'),\n",
    "                                                                     Differenzbetrag = ('difference_amount', 'sum')\n",
    "                                                                    )\n",
    "# df_betrag['Differenz_Anteil'] = df_betrag['Differenzbetrag']/df_betrag['Zielbetrag_gesamt']*100\n",
    "df_betrag['Misserfolg'] = df_betrag['Gesamt'] - df_betrag['Erfolg']\n",
    "\n",
    "df_betrag"
   ]
  },
  {
   "cell_type": "markdown",
   "metadata": {},
   "source": [
    "Obige Tabelle zeigt alle Beträge gestaffelt nach Betragskategorie.  \n",
    "Die weiteren Analysen werden sich auf die Differenzbeträge beziehen."
   ]
  },
  {
   "cell_type": "code",
   "execution_count": null,
   "metadata": {
    "ExecuteTime": {
     "end_time": "2021-11-18T08:23:45.672130Z",
     "start_time": "2021-11-18T08:23:45.555794Z"
    }
   },
   "outputs": [],
   "source": [
    "# Check, ob das passt erfolgreiche Projekte pro Betragskategorie\n",
    "for i in kategorien:\n",
    "    print(len(df_funds.loc[(df_funds['Betragskategorie']==i) & (df_funds['success_rate'] >=100), \n",
    "             ['Betragskategorie', 'success_rate']\n",
    "            ])\n",
    "         )"
   ]
  },
  {
   "cell_type": "code",
   "execution_count": null,
   "metadata": {
    "ExecuteTime": {
     "end_time": "2021-11-18T14:36:13.436688Z",
     "start_time": "2021-11-18T14:36:13.390440Z"
    }
   },
   "outputs": [],
   "source": [
    "from plotly.subplots import make_subplots\n",
    "import plotly.graph_objects as go\n",
    "df_temp = df_betrag.drop(4)\n",
    "\n",
    "fig = make_subplots(specs=[[{\"secondary_y\": True}]])\n",
    "\n",
    "fig.add_trace(go.Bar(name='Differenzbeträge in $',\n",
    "                     x=df_temp['Betragskategorie'],\n",
    "                     y=df_temp['Differenzbetrag'],\n",
    "                     text = df_temp['Differenzbetrag']\n",
    "                     ),secondary_y=False,)\n",
    "\n",
    "fig.add_trace(go.Bar(name='Zielbeträge in $',\n",
    "                     x=df_temp['Betragskategorie'],\n",
    "                     y=df_temp['Zielbetrag_gesamt'],\n",
    "                     text = df_temp['Zielbetrag_gesamt']\n",
    "                     ),secondary_y=False)\n",
    "\n",
    "# Change the bar mode\n",
    "fig.update_layout(barmode='group',\n",
    "                  title='Bewertung: Summierte Differenzbeträge und Zielbeträge je Finanzierungswert',\n",
    "                  title_font_size = 20,\n",
    "                  width = 1000,\n",
    "                  height = 800,\n",
    "                  legend_xanchor = 'right',\n",
    "                  legend_x = 0.9\n",
    "                 )\n",
    "fig.update_yaxes(type=\"log\", title_text='Beträge in $', title_font_size = 18)\n",
    "fig.update_xaxes(title_text='Finanzierungswert der einzelnen Projekte in $', title_font_size = 18)\n",
    "#fig.update_traces(marker_opacity=0.5, selector=dict(type='bar')) \n",
    "fig.show()"
   ]
  },
  {
   "cell_type": "code",
   "execution_count": null,
   "metadata": {
    "ExecuteTime": {
     "end_time": "2021-11-18T09:46:10.862388Z",
     "start_time": "2021-11-18T09:46:10.773909Z"
    }
   },
   "outputs": [],
   "source": [
    "# Korrelation scatter Anstieg loan_amount, Anstieg Differenzen\n",
    "\n",
    "df = df_betrag.sort_values('Zielbetrag_gesamt')\n",
    "fig = px.scatter(df, x='Zielbetrag_gesamt', y='Differenzbetrag', color = 'Betragskategorie',symbol='Betragskategorie')\n",
    "\n",
    "fig.update_layout(title='Differenzbeträge zu Zielbeträge',\n",
    "                  title_font_size = 20,\n",
    "                  width = 600,\n",
    "                  height = 600,\n",
    "                  legend_xanchor = 'left',\n",
    "                  legend_x = 0.3\n",
    "                 )\n",
    "fig.update_yaxes(title_text='Differenzeträge in $', title_font_size = 18)\n",
    "fig.update_xaxes(title_text='Zielbeträge in $', title_font_size = 18)\n",
    "fig.show()"
   ]
  },
  {
   "cell_type": "markdown",
   "metadata": {},
   "source": [
    "Der obige Barchart hat eine logarithmierte Y-Achse, um die kleinen Beträge mit abbilden zu können.  \n",
    "Es ist ein Zusammenhang zu erkennen zwischen der Differenz und den Zielbeträgen. Je höher die Summe der Zielbeträge, desto höher die Summe der Differenzbeträge.  \n",
    "Er verdeutlicht, dass die meisten Differenzen bei Projekten von 1000\\\\$ bis 9999\\\\$ bestehen. Es sind aber auch gleichzeitig die, bei denen am meisten Geld angefragt wurde. Es muss dort noch etwas etwas geben, was die Investoren scheut, die Projekte vollständig zu finanzieren. Es lohnt sich daher tiefer zu graben in der Kategorie, die die höchsten Beträge generiert, aber gleichzeitig auch am schlechtesten finanziert werden. Die Korrelation zwischen Anstieg der Zielsumme und Differenzbeträgen lässt sich wahrscheinlich auf andere Kategorien übertragen. "
   ]
  },
  {
   "cell_type": "markdown",
   "metadata": {},
   "source": [
    "# Aufschlüsselung der Ursachen nicht investierter Beträge anhand der Kategorie 1000 bis 9999\\\\$\n",
    "Es folgen neue Tabellen, die die Abhängigkeit der Differenzbeträge von verschiedenen Faktoren beschreiben."
   ]
  },
  {
   "cell_type": "code",
   "execution_count": null,
   "metadata": {
    "ExecuteTime": {
     "end_time": "2021-11-18T13:16:26.708618Z",
     "start_time": "2021-11-18T13:16:26.634665Z"
    }
   },
   "outputs": [],
   "source": [
    "# summierte Differenzbeträge abhängig vom Repayment Intervall\n",
    "df_1000 = df_funds.loc[df_funds['Betragskategorie'].isin(['1000...9999']),:]\n",
    "# df_1000['sector'] = df_1000['sector'].cat.remove_unused_categories()\n",
    "df_1000_rep = df_1000.groupby(['repayment_interval'], observed = True, as_index=False).agg(Differenzbetrag=('difference_amount','sum'),                                                  \n",
    "                                                 )\n",
    "df_1000_rep.sort_values('Differenzbetrag', inplace=True)\n",
    "\n",
    "df_1000_rep"
   ]
  },
  {
   "cell_type": "code",
   "execution_count": null,
   "metadata": {
    "ExecuteTime": {
     "end_time": "2021-11-18T11:08:07.329203Z",
     "start_time": "2021-11-18T11:08:07.309548Z"
    }
   },
   "outputs": [],
   "source": [
    "# summierte Differenzbeträge abhängig vom Sector\n",
    "df_1000_sector = df_1000.groupby(['sector'], observed = False, as_index=False)\\\n",
    ".agg(Differenzbetrag=('difference_amount','sum'))\n",
    "df_1000_sector.sort_values('Differenzbetrag', inplace=True)\n",
    "df_1000_sector['sector'] = df_1000_sector['sector'].cat.remove_unused_categories()\n",
    "df_1000_sector"
   ]
  },
  {
   "cell_type": "code",
   "execution_count": null,
   "metadata": {
    "ExecuteTime": {
     "end_time": "2021-11-18T12:07:15.618779Z",
     "start_time": "2021-11-18T12:07:15.580395Z"
    }
   },
   "outputs": [],
   "source": [
    "# summierte Differenzbeträge abhängig vom Land\n",
    "df_1000_country = df_1000.groupby(['country', 'country_code'], observed = True, as_index=False)\\\n",
    ".agg(Differenzbetrag=('difference_amount','sum'))\n",
    "df_1000_country.drop(df_1000_country.loc[df_1000_country['Differenzbetrag']==0,:].index, inplace=True)\n",
    "df_1000_country.sort_values('Differenzbetrag', inplace=True)\n",
    "df_1000_country"
   ]
  },
  {
   "cell_type": "code",
   "execution_count": null,
   "metadata": {
    "ExecuteTime": {
     "end_time": "2021-11-18T11:56:46.259596Z",
     "start_time": "2021-11-18T11:56:46.229675Z"
    }
   },
   "outputs": [],
   "source": [
    "# summierte Differenzbeträge abhängig von der Laufzeit\n",
    "df_1000_term = df_1000.groupby(['term_in_months'], observed = True, as_index=False)\\\n",
    ".agg(Differenzbetrag=('difference_amount','sum'))\n",
    "df_1000_term.sort_values('term_in_months', inplace=True)\n",
    "df_1000_term.drop(df_1000_term.loc[df_1000_term['Differenzbetrag']==0,:].index, inplace=True)\n",
    "df_1000_term"
   ]
  },
  {
   "cell_type": "code",
   "execution_count": null,
   "metadata": {
    "ExecuteTime": {
     "end_time": "2021-11-18T13:16:37.179323Z",
     "start_time": "2021-11-18T13:16:37.149209Z"
    }
   },
   "outputs": [],
   "source": [
    "# summierte Differenzbeträge abhängig vom Erfolg\n",
    "df_1000_success = df_1000.groupby(['Erfolgskategorie'], observed = True, as_index=False)\\\n",
    ".agg(Differenzbetrag=('difference_amount','sum'))\n",
    "# df_1000_success.sort_values('Differenzbetrag', inplace=True)\n",
    "# df_1000_success.drop(df_1000_term.loc[df_1000_term['Differenzbetrag']==0,:].index, inplace=True)\n",
    "df_1000_success"
   ]
  },
  {
   "cell_type": "code",
   "execution_count": null,
   "metadata": {
    "ExecuteTime": {
     "end_time": "2021-11-18T14:43:18.521665Z",
     "start_time": "2021-11-18T14:43:18.430838Z"
    }
   },
   "outputs": [],
   "source": [
    "# Übersicht der obigen gruppierten Dataframes\n",
    "fig = make_subplots(rows=5, cols=1)\n",
    "fig.add_trace(go.Bar(name='Differenz nach Rückzahlungsintervall',\n",
    "                     x=df_1000_rep['repayment_interval'],\n",
    "                     y=df_1000_rep['Differenzbetrag'],\n",
    "                     text = df_1000_rep['Differenzbetrag'],\n",
    "                     ), row = 1, col= 1)\n",
    "fig.add_trace(go.Bar(name='Differenz nach Sektor',\n",
    "                     x=df_1000_sector['sector'],\n",
    "                     y=df_1000_sector['Differenzbetrag'],\n",
    "                     text = df_1000_sector['Differenzbetrag'],\n",
    "                     ), row = 2, col= 1)\n",
    "fig.add_trace(go.Scatter(name='Differenz nach Laufzeit',\n",
    "                     x=df_1000_term['term_in_months'],\n",
    "                     y=df_1000_term['Differenzbetrag'],\n",
    "                     text = df_1000_term['Differenzbetrag'],\n",
    "                         mode='markers'\n",
    "                     ), row = 3, col= 1)\n",
    "fig.add_trace(go.Bar(name='Differenz nach Land',\n",
    "                     x=df_1000_country['country_code'],\n",
    "                     y=df_1000_country['Differenzbetrag'],\n",
    "                     text = df_1000_country['Differenzbetrag'],\n",
    "                     ), row = 4, col= 1)\n",
    "fig.add_trace(go.Scatter(name='Differenz nach Erfolgskategorie',\n",
    "                     x=df_1000_success['Erfolgskategorie'],\n",
    "                     y=df_1000_success['Differenzbetrag'],\n",
    "                     text = df_1000_term['Differenzbetrag'],\n",
    "                     ), row = 5, col= 1)\n",
    "\n",
    "fig.update_yaxes(title_text='Differenzeträge in $', title_font_size = 12)\n",
    "fig.update_xaxes(title_text='Laufzeit in Monaten', row=3, col=1)\n",
    "fig.update_xaxes(title_text='Ländercodes', row=4, col=1)\n",
    "fig.update_xaxes(title_text='Erfolg in %', row=5, col=1)\n",
    "fig.update_layout(title='Bewertung: Differenzbeträge in verschiedenen Kategorien',\n",
    "                  title_font_size = 20,\n",
    "                  width = 1200,\n",
    "                  height = 1600,\n",
    "                  legend_xanchor = 'left',\n",
    "                  legend_x = 0.1,\n",
    "                 )\n",
    "fig.show()"
   ]
  },
  {
   "cell_type": "markdown",
   "metadata": {},
   "source": [
    "**Zusammenfassung der obigen Plots:**\n",
    "- Plot 1 Rückzahlungsintervall: monatliche Rückzahlung erzeugt für sich die höchsten Differenzbeträge: 58% aller Differenzbeträge\n",
    "- Plot 2 Sector: Agriculture für sich erzeugt die höchsten Differenzbeträge: 25% aller Differenzbeträge\n",
    "- Plot 3 Laufzeit: irgendwo zwischen 10 und 30 Monaten Laufzeit sind die höchsten Differenzbeträge\n",
    "- Plot 4 Länder: in die USA wurde am wenigsten investiert: 21% aller Differenzbeträge\n",
    "- Plot 5 Erfolgskategorie: Anstieg er Differenzbeträge bis 1...<20 %, danach sinken sie\n",
    "\n",
    "Die Differenzbeträge in der Kategorie mit einen Zielbetrag zwischen 1000 bis 9999\\\\$ hängen von verschiedenen Ursachen ab.\n"
   ]
  },
  {
   "cell_type": "code",
   "execution_count": null,
   "metadata": {
    "ExecuteTime": {
     "end_time": "2021-11-18T14:54:04.266288Z",
     "start_time": "2021-11-18T14:54:04.231381Z"
    }
   },
   "outputs": [],
   "source": [
    "df_1000_monthly = df_1000.loc[(df_1000['repayment_interval']=='monthly') & (df_1000['Erfolgskategorie'].isin(['1...<20'])),:]\n",
    "df_1000_monthly.head(1)"
   ]
  },
  {
   "cell_type": "code",
   "execution_count": null,
   "metadata": {
    "ExecuteTime": {
     "end_time": "2021-11-18T14:54:28.743087Z",
     "start_time": "2021-11-18T14:54:28.712171Z"
    }
   },
   "outputs": [],
   "source": [
    "df_1000_group = df_1000_monthly.groupby(['sector','country'], observed = True, as_index=False)\\\n",
    ".agg(Differenzbetrag=('difference_amount','sum'),\n",
    "     Zielbetrag = ('loan_amount', 'sum')\n",
    "    )\n",
    "df_1000_group.drop(df_1000_group.loc[df_1000_group['Differenzbetrag']==0,:].index, inplace=True)\n",
    "df_1000_group.sort_values('Differenzbetrag', inplace=True)\n",
    "df_1000_group"
   ]
  },
  {
   "cell_type": "code",
   "execution_count": null,
   "metadata": {
    "ExecuteTime": {
     "end_time": "2021-11-18T14:45:27.511669Z",
     "start_time": "2021-11-18T14:45:27.254921Z"
    }
   },
   "outputs": [],
   "source": [
    "fig = px.scatter(df_1000_group, x='Erfolgskategorie', y='difference_amount',\n",
    "                 color='sector',\n",
    "                 size='difference_amount'\n",
    "                )\n",
    "fig.show()"
   ]
  },
  {
   "cell_type": "code",
   "execution_count": null,
   "metadata": {},
   "outputs": [],
   "source": [
    "# Scatterplot des Entertainment-subsets\n",
    "fig = px.scatter(df_entertainment,\n",
    "x='loan_amount',\n",
    "y='funding_percent',\n",
    "color='country',\n",
    "size='borrower_number',\n",
    "template='seaborn',\n",
    "title='funding percentage per loan size and country in the Entertainment sector',\n",
    "hover_data=[\"country\", \"loan_amount\",'funding_percent','use']\n",
    ")\n",
    "# hinzufuegen der Infobox ueber die Bubble size\n",
    "fig.add_annotation(text='Size of the Bubble: Number of People requesting the loan', \n",
    "align='right',\n",
    "showarrow=False,\n",
    "xref='paper',\n",
    "yref='paper',\n",
    "x=1.0,\n",
    "y=-0.15,\n",
    "bordercolor='grey',\n",
    "borderwidth=1)\n",
    "\n",
    "fig.show()"
   ]
  },
  {
   "cell_type": "code",
   "execution_count": null,
   "metadata": {
    "ExecuteTime": {
     "end_time": "2021-11-18T12:18:12.220576Z",
     "start_time": "2021-11-18T12:18:12.213100Z"
    }
   },
   "outputs": [],
   "source": [
    "sum(df_1000_group['Differenzbetrag'])"
   ]
  }
 ],
 "metadata": {
  "kernelspec": {
   "display_name": "Python 3",
   "language": "python",
   "name": "python3"
  },
  "language_info": {
   "codemirror_mode": {
    "name": "ipython",
    "version": 3
   },
   "file_extension": ".py",
   "mimetype": "text/x-python",
   "name": "python",
   "nbconvert_exporter": "python",
   "pygments_lexer": "ipython3",
   "version": "3.8.3"
  },
  "toc": {
   "base_numbering": 1,
   "nav_menu": {},
   "number_sections": true,
   "sideBar": true,
   "skip_h1_title": false,
   "title_cell": "Table of Contents",
   "title_sidebar": "Contents",
   "toc_cell": false,
   "toc_position": {},
   "toc_section_display": true,
   "toc_window_display": true
  },
  "varInspector": {
   "cols": {
    "lenName": 16,
    "lenType": 16,
    "lenVar": 40
   },
   "kernels_config": {
    "python": {
     "delete_cmd_postfix": "",
     "delete_cmd_prefix": "del ",
     "library": "var_list.py",
     "varRefreshCmd": "print(var_dic_list())"
    },
    "r": {
     "delete_cmd_postfix": ") ",
     "delete_cmd_prefix": "rm(",
     "library": "var_list.r",
     "varRefreshCmd": "cat(var_dic_list()) "
    }
   },
   "types_to_exclude": [
    "module",
    "function",
    "builtin_function_or_method",
    "instance",
    "_Feature"
   ],
   "window_display": false
  }
 },
 "nbformat": 4,
 "nbformat_minor": 5
}
