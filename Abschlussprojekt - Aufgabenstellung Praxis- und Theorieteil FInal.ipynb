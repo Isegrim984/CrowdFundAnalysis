{
 "cells": [
  {
   "cell_type": "markdown",
   "metadata": {},
   "source": [
    "# Abschlussprojekt\n",
    "\n",
    "Das Abschlussprojekt besteht aus 2. Teilen, wobei der 1.Teil 30% und der 2.Teil 70% in der Gewichtung ausmacht.\n",
    "\n",
    "Die Dokumentation und Beantwortung der Fragen kann in englisch oder deutsch erfolgen.\n",
    "\n",
    "Im 2.Teil soll eine *explorative Datenanalyse* durchgeführt werden. Dafür ist der Datensatz zunächst vorzubereiten. In die Bewertung geht zudem die Dokumentation mit ein. Für die Visualisierung sind 3 verschiedenartige Plots zu benennen, die in die Bewertung eingehen sollen. Vergiss dabei nicht die Erkenntnisse die aus jedem Plot gezogen werden können, zu notieren.\n",
    "\n",
    "Am Freitag erfolgt die Vorstellung der Plots innerhalb des Zeitrahmens von 5min (+-1min) ist dabei ok.\n",
    "\n",
    "Treff ist **Donnerstag um 16:00 Uhr im Hauptraum**. Da werden wir die Unterlagen in dokumentsichere Formate umwandeln. Das machen wir aber zusammen. Danach habt ihr bis 17:10 Uhr zeit, eure zu bewertenden Unterlagen in den Projektabgabeordner hochzuladen.\n",
    "\n",
    "## 1. Teil - Theoriefragen\n",
    "\n",
    "### 1.1) 4 V´s\n",
    "\n",
    "**Erkläre die 4 V´s mit deinen eigenen Worten anhand eines Beispiels. Vergiss dabei nicht die 4 V´s thematisch einzuordnen.**  \n",
    "\n",
    "Die 4 V's dienen dazu abzuschätzen, ob ein Big Data Thema vorliegt.\n",
    "- Volumen:\n",
    "    - Die Datenmenge kann nicht mehr mit herkömmlichen Mitteln bewältigt werden. \n",
    "    - Bsp. Amazon: Es müssen unzählige Artikel verwaltet werden. Jeder hat verschiedene Eigenschaften (Preis, Kategorien, Genre, Produktbilder, gewerbliche Anbieter...). Dazu kommen Kunden, deren Daten gespeichert werden müssen, die Produktbwertungen hinterlassen, Bilder posten können. Alle diese Informationen müssen gespeichert werden. Täglich kommen mehr Daten dazu. Die Datenmenge dafür ist zu groß, um sie in einer einzelnen Datenbank zu speichern, da damit keine horizontale Skalierbarkeit möglich ist. Um das Volumen zu händeln\n",
    "- Variety:\n",
    "    - Die Vielfalt von Datenquellen und Datenformaten erfordern eine andere Datenanalyse\n",
    "    - Die Daten sind unstrukturiert\n",
    "    - Bsp. Amazon: Wie bereits oben erwähnt gibt es eine Vielzahl an Daten die sich nicht in eine feste Struktur zwingen lassen. Damit Kunden angelockt werden müssen bei Amazon Produktbilder, -Videos, Rezensionen hinterlegt sein. Diese können alle unterschiedlich sein und haben alle verschiedene Formate. Daher müssen diese unstrukturierten Daten auch korrekt verarbeitet werden. \n",
    "- Velocity\n",
    "    - Geschwindigkeit mit der Daten generiert werden ist hoch\n",
    "    - Bsp. Youtube: Jede Minute werden ca. 500h Videomaterial hochgeladen. Es muss sichergestellt sein, dass diese Menge zeitgerecht verarbeitet werden kann und jeder User wann er möchte dies auch tun kann. \n",
    "- Veracity\n",
    "    - Wahrhaftigkeit/Richtigkeit muss gewährleistet sein, um den Erfolg von Big Data zu garantieren\n",
    "    - Bsp. Ebay: Verkäuferbewertungen haben Kategorien \n",
    "        - Artikelbeschreibung: Wie korrekt war die Beschreibung des Artikels im Angebot?\n",
    "        - Kommunikation: Hat der Verkäufer gut mit dem Käufer kommuniziert? \n",
    "        - Versandzeit: Wie schnell hat der Verkäufer den Artikel verschickt?\n",
    "        - Kosten für Verpackung und Versand: Waren die Kosten angemessen?\n",
    "    - Anstatt diese Informationen als Text der Käufer zu hinterlegen, gibt es für die Kategorien Bewertungsskalen von 1 bis 5 Sternen. Damit ist sichergestellt, dass alle den gleichen Sinn hinter der Bewertung erkennen. Vertrauensvolle Verkäufer haben z.B. immer mindestens 4 Sterne, oder wo gab es Probleme beim Versand wird sofort erkannt. \n",
    "    \n",
    "\n",
    "### 1.2) fehlende Werte\n",
    "\n",
    "a.) Erkläre anhand eines selbstgewählten Beispiels was fehlende Werte sind.\n",
    "\n",
    "Ein Temperatursensor ist ausgefallen und kann keine Temperatur mehr messen. Im Messprotokoll sind ab Zeitpunkt des Ausfalls fehlende Angaben, sprich keine Zahlen hinterlegt, z.B. NaN (not a number) oder '-'. Es können auch Synonyme sein, wie '?', 'missing'.\n",
    "\n",
    "b.) Warum muss sich bei der Datenanalyse damit beschäftigt werden?\n",
    "\n",
    "Weil man damit eine Lücke in den Daten hat. Für die spätere Visualisierung werden fehlende Werte wie gelöscht angesehen. Es könenn auch keine Berechnungen durchgeführt werden. Daher ist zu überlegen, ob man die gesamte Zeile löscht mit dem Risiko von Datenverlust, oder man befüllt die fehlenden Werte, bspw. mit dem Mittelwert der Temperatur vor und nach dem Ausfall des Sensors oder man ersetzt sie mit Daten von einem anderen Sensor.\n",
    "\n",
    "c.) Wie können fehlende Werte in der Datenanalyse identifiziert werden?\n",
    "- `.isnull().sum():` Anzahl systemseitig erkannter NaN Werte\n",
    "- `.info():` welche Datentypen und ob NaN Werte vorliegen\n",
    "- `.unique()`: Anzeige einzigartiger Werte, um ein Synonym zu identifizieren\n",
    "    - bei zu vielen uniques in Zahlen-Spalten vom Object Datentyp kann versucht werden, die gesamte Spalte in einen Zahlendatentyp zu casten mit z.B. `astype(float)`, dann wird ein Fehler bei einem Synonym ausgegeben.\n",
    "- `.nunique()`: Abgleich mit `.unique()`\n",
    "- `.describe()`: Kommawerte oder Negativwerte bei ganzzahligen Spalten, oder unsinnig hohe Werte\n",
    "- `.min()`: Minimumwerte, die nicht erwartet werden, können fehlende Werte sein.\n",
    "- `.max()`: Maximumwerte, die nicht erwartet wurden, können fehlende Werte sein.\n",
    "- `.dtypes`: Wenn Zahlen Spalten vom Typ Object Typ sind, ist das ein Hinweis, dass dort Strings enthalten sind (Synonyme)"
   ]
  },
  {
   "cell_type": "markdown",
   "metadata": {},
   "source": [
    "## 2. Teil - Praxis\n",
    "\n",
    "Du arbeitest als Data Scientist in einem Start Up. Ihr habt vor einem Jahr euer Geschäft eröffnet und nun wollt ihr den nächsten Schritt gehen und eure Dienste erweitern. Euer Geschäftsmodell ist das Betreiben einer Plattform bei der sich Personen die eine Geschäftsidee haben, aber nicht das benötigte Geld, anmelden und für ihr Projekt innerhalb einer vorgegebenen Zeit Geld sammeln können. Auf der anderen Seite habt ihr Geldgeber, die gern ihr Geld in Projekte anlegen möchten und nach Investitionen suchen. Als Vermittler bringt eure Plattform also Geldnehmer und Geldgeber zusammen. Ihr verdient euer Geld mit einer Provision für jedes Projekt was auf eurer Plattform landet.\n",
    "\n",
    "Deine Datenbasis ist die Historie eurer Plattform. Alle Projekte sind abgeschlossene Projekte, d.h. die Zeit, um für sein Projekt Geld zu sammeln ist abgelaufen. Euer Geschäftsmodell sieht es vor, dass die gesammelten Gelder ausgezahlt werden, auch wenn der Zielbetrag nicht erreicht wurde.\n",
    "\n",
    "In dem Datensatz gibt es KEINE Duplikate.\n",
    "\n",
    "Der gesplittete Datensatz enthält folgende Spalten (inkl. Bedeutung):\n",
    "\n",
    "\n",
    "    - funded_amount ... mit Ablauf der Crowdfundingzeit erhaltener Betrag/ ausgezahlter Betrag in USD\n",
    "    - loan_amount ... Zielbetrag (Betrag dem man mit Funding erreichen wollte) in USD\n",
    "    - activity ... Unterkategory zu dem das Ziel des Crowdfunding thematisch gehört\n",
    "    - sector ... Oberkategory in den das Crowdfunding Thema fällt\n",
    "    - use ... Kurzbeschreibung wofür das Geld verwendet werden soll\n",
    "    - country_code ... Ländercode nach ISO Norm\n",
    "    - country ... Ländername nach ISO Norm\n",
    "    - region ... Region\n",
    "    - currency ... Währung in den der funded_amount dann ausgezahlt wurde\n",
    "    - term in months ... Dauer über die der Kredit ausgezahlt werden soll\n",
    "    - lender_count ...Darlehensgeber (also wieviele Personen Geld für das Projekt gegeben haben)\n",
    "    - borrower_genders ... Geschlecht und Anzahl der Darlehensnehmer, also diejenigen die das Crowdfundingprojekt                                  initiiert haben\n",
    "    - repayment interval ... Rückzahlungsmodalitäten/-rhythmus\n"
   ]
  },
  {
   "cell_type": "markdown",
   "metadata": {},
   "source": [
    "### Daten einlesen"
   ]
  },
  {
   "cell_type": "code",
   "execution_count": null,
   "metadata": {
    "ExecuteTime": {
     "end_time": "2021-11-18T13:01:26.411323Z",
     "start_time": "2021-11-18T13:01:25.307730Z"
    }
   },
   "outputs": [],
   "source": [
    "#Bibliotheken laden\n",
    "import numpy as np\n",
    "import pandas as pd\n",
    "import seaborn as sns\n",
    "import matplotlib.pyplot as plt\n",
    "import plotly_express as px"
   ]
  },
  {
   "cell_type": "code",
   "execution_count": null,
   "metadata": {
    "ExecuteTime": {
     "end_time": "2021-11-18T13:01:26.442862Z",
     "start_time": "2021-11-18T13:01:26.413253Z"
    }
   },
   "outputs": [],
   "source": [
    "df1 = pd.read_csv('part1.csv',\n",
    "                  sep='\\n',\n",
    "                  nrows=2\n",
    "                 )\n",
    "df1"
   ]
  },
  {
   "cell_type": "code",
   "execution_count": null,
   "metadata": {
    "ExecuteTime": {
     "end_time": "2021-11-18T13:01:26.458891Z",
     "start_time": "2021-11-18T13:01:26.443859Z"
    }
   },
   "outputs": [],
   "source": [
    "df2 = df1 = pd.read_csv('part2.csv',\n",
    "                  sep='\\n',\n",
    "                  nrows=2\n",
    "                 )\n",
    "df2"
   ]
  },
  {
   "cell_type": "markdown",
   "metadata": {},
   "source": [
    "Beide Dateien haben unterschiedliche Separator. Part1 das Komma, Part2 die Raute. Folgend werden beide mit dem korrekten Separator geladen."
   ]
  },
  {
   "cell_type": "code",
   "execution_count": null,
   "metadata": {
    "ExecuteTime": {
     "end_time": "2021-11-18T13:01:27.278765Z",
     "start_time": "2021-11-18T13:01:26.460107Z"
    }
   },
   "outputs": [],
   "source": [
    "df1 = pd.read_csv('part1.csv',\n",
    "                  sep=',',\n",
    "                  index_col=0\n",
    "                 )\n",
    "\n",
    "df1.head(5)"
   ]
  },
  {
   "cell_type": "code",
   "execution_count": null,
   "metadata": {
    "ExecuteTime": {
     "end_time": "2021-11-18T13:01:27.311678Z",
     "start_time": "2021-11-18T13:01:27.279762Z"
    },
    "scrolled": false
   },
   "outputs": [],
   "source": [
    "df1.tail(5)"
   ]
  },
  {
   "cell_type": "code",
   "execution_count": null,
   "metadata": {
    "ExecuteTime": {
     "end_time": "2021-11-18T13:01:28.181555Z",
     "start_time": "2021-11-18T13:01:27.312675Z"
    }
   },
   "outputs": [],
   "source": [
    "df2 = pd.read_csv('part2.csv',\n",
    "                  sep='#',\n",
    "                  index_col=0\n",
    "                 )\n",
    "\n",
    "df2.head(5)"
   ]
  },
  {
   "cell_type": "code",
   "execution_count": null,
   "metadata": {
    "ExecuteTime": {
     "end_time": "2021-11-18T13:01:28.213469Z",
     "start_time": "2021-11-18T13:01:28.187539Z"
    }
   },
   "outputs": [],
   "source": [
    "df2.tail(5)"
   ]
  },
  {
   "cell_type": "code",
   "execution_count": null,
   "metadata": {
    "ExecuteTime": {
     "end_time": "2021-11-18T13:01:28.229735Z",
     "start_time": "2021-11-18T13:01:28.215468Z"
    }
   },
   "outputs": [],
   "source": [
    "df1.dtypes"
   ]
  },
  {
   "cell_type": "code",
   "execution_count": null,
   "metadata": {
    "ExecuteTime": {
     "end_time": "2021-11-18T13:01:28.261658Z",
     "start_time": "2021-11-18T13:01:28.230715Z"
    }
   },
   "outputs": [],
   "source": [
    "df2.dtypes"
   ]
  },
  {
   "cell_type": "code",
   "execution_count": null,
   "metadata": {
    "ExecuteTime": {
     "end_time": "2021-11-18T13:01:28.277616Z",
     "start_time": "2021-11-18T13:01:28.264652Z"
    }
   },
   "outputs": [],
   "source": [
    "df1.columns"
   ]
  },
  {
   "cell_type": "code",
   "execution_count": null,
   "metadata": {
    "ExecuteTime": {
     "end_time": "2021-11-18T13:01:28.292577Z",
     "start_time": "2021-11-18T13:01:28.278613Z"
    }
   },
   "outputs": [],
   "source": [
    "df2.columns"
   ]
  },
  {
   "cell_type": "code",
   "execution_count": null,
   "metadata": {
    "ExecuteTime": {
     "end_time": "2021-11-18T13:01:28.307537Z",
     "start_time": "2021-11-18T13:01:28.293574Z"
    }
   },
   "outputs": [],
   "source": [
    "df1.shape, df2.shape"
   ]
  },
  {
   "cell_type": "code",
   "execution_count": null,
   "metadata": {
    "ExecuteTime": {
     "end_time": "2021-11-18T13:01:28.323493Z",
     "start_time": "2021-11-18T13:01:28.308535Z"
    }
   },
   "outputs": [],
   "source": [
    "# Kontrolle welche Größe neuer Dataframe durch Joinen haben müsste\n",
    "len(df1)+len(df2)"
   ]
  },
  {
   "cell_type": "markdown",
   "metadata": {},
   "source": [
    "Beide Dataframes können zeilenweise gemerged werden,  da sie die gleiche Struktur haben, die selben Spaltennamen, die selben Datentypen. Aus irgendeinem Grund erzeugt `.merge()` mit how='outer' mehr Zeilen als beide Dataframes zusammen haben müssten. Das Problem wird durch die `.concat()` Funktion gelöst."
   ]
  },
  {
   "cell_type": "code",
   "execution_count": null,
   "metadata": {
    "ExecuteTime": {
     "end_time": "2021-11-18T13:01:28.449158Z",
     "start_time": "2021-11-18T13:01:28.324490Z"
    }
   },
   "outputs": [],
   "source": [
    "# beide Dataframes können zeilenweise gemerged werden, \n",
    "# da sie die gleiche Struktur haben, die selben Spaltennamen, die selben Datentypen\n",
    "df_funds = pd.concat([df1, df2])\n",
    "df_funds.shape "
   ]
  },
  {
   "cell_type": "code",
   "execution_count": null,
   "metadata": {
    "ExecuteTime": {
     "end_time": "2021-11-18T13:01:28.480077Z",
     "start_time": "2021-11-18T13:01:28.451152Z"
    }
   },
   "outputs": [],
   "source": [
    "# selbes Ergebnis wie bei df1.head()\n",
    "df_funds.head()"
   ]
  },
  {
   "cell_type": "code",
   "execution_count": null,
   "metadata": {
    "ExecuteTime": {
     "end_time": "2021-11-18T13:01:28.510992Z",
     "start_time": "2021-11-18T13:01:28.481076Z"
    }
   },
   "outputs": [],
   "source": [
    "# selbes Ergebnis wie bei df2.tail()\n",
    "df_funds.tail()"
   ]
  },
  {
   "cell_type": "code",
   "execution_count": null,
   "metadata": {
    "ExecuteTime": {
     "end_time": "2021-11-18T13:01:28.541909Z",
     "start_time": "2021-11-18T13:01:28.512987Z"
    }
   },
   "outputs": [],
   "source": [
    "# Resetten des Index, da Index von df2 nur angehängt wurde\n",
    "df_funds.reset_index(inplace=True, drop=True)\n",
    "df_funds.tail()"
   ]
  },
  {
   "cell_type": "markdown",
   "metadata": {},
   "source": [
    "### Mit den Daten vertraut machen"
   ]
  },
  {
   "cell_type": "code",
   "execution_count": null,
   "metadata": {
    "ExecuteTime": {
     "end_time": "2021-11-18T13:01:28.788266Z",
     "start_time": "2021-11-18T13:01:28.543904Z"
    }
   },
   "outputs": [],
   "source": [
    "df_funds.info() # welche Datentypen und ob NaN Werte vorliegen"
   ]
  },
  {
   "cell_type": "code",
   "execution_count": null,
   "metadata": {
    "ExecuteTime": {
     "end_time": "2021-11-18T13:01:29.020522Z",
     "start_time": "2021-11-18T13:01:28.790245Z"
    }
   },
   "outputs": [],
   "source": [
    "df_funds.isnull().sum() # Anzahl systemseitig erkannter NaN Werte"
   ]
  },
  {
   "cell_type": "code",
   "execution_count": null,
   "metadata": {
    "ExecuteTime": {
     "end_time": "2021-11-18T13:01:29.205431Z",
     "start_time": "2021-11-18T13:01:29.021518Z"
    }
   },
   "outputs": [],
   "source": [
    "df_funds.describe() # kleine Statis. Übersicht\n",
    "# hier müssten alle numerischen Spalten aufgelistet sein"
   ]
  },
  {
   "cell_type": "code",
   "execution_count": null,
   "metadata": {
    "ExecuteTime": {
     "end_time": "2021-11-18T13:01:29.220391Z",
     "start_time": "2021-11-18T13:01:29.206428Z"
    }
   },
   "outputs": [],
   "source": [
    "# # Pairplot\n",
    "# my_pairplot = sns.pairplot(data=df_funds,\n",
    "#                            corner=True,\n",
    "#                            hue='sector'\n",
    "#                           )"
   ]
  },
  {
   "cell_type": "code",
   "execution_count": null,
   "metadata": {
    "ExecuteTime": {
     "end_time": "2021-11-18T13:01:33.215128Z",
     "start_time": "2021-11-18T13:01:29.221388Z"
    }
   },
   "outputs": [],
   "source": [
    "fig = px.scatter_matrix(df_funds,\n",
    "                        color=\"sector\",\n",
    "                        dimensions=['funded_amount', 'loan_amount', 'term_in_months', 'lender_count']\n",
    "                       )\n",
    "fig.show()"
   ]
  },
  {
   "cell_type": "code",
   "execution_count": null,
   "metadata": {
    "ExecuteTime": {
     "end_time": "2021-11-18T13:01:33.300899Z",
     "start_time": "2021-11-18T13:01:33.220113Z"
    }
   },
   "outputs": [],
   "source": [
    "df_funds_corr = df_funds.corr(method='pearson') # Defaulteinstellung ist Pearson Correlation als method\n",
    "#pearson : standard correlation coefficient\n",
    "df_funds_corr"
   ]
  },
  {
   "cell_type": "code",
   "execution_count": null,
   "metadata": {
    "ExecuteTime": {
     "end_time": "2021-11-18T13:01:33.581767Z",
     "start_time": "2021-11-18T13:01:33.301895Z"
    }
   },
   "outputs": [],
   "source": [
    "sns.heatmap(df_funds_corr, vmin=-1, vmax=1,center=0,\n",
    "            linewidths=.5, \n",
    "            cmap='coolwarm',\n",
    "            annot=True).set_title('Korrelationsmatrix')"
   ]
  },
  {
   "cell_type": "markdown",
   "metadata": {},
   "source": [
    "**Die Erstinspektion der Daten zeigt folgendes:**\n",
    "\n",
    "Systemseitig erkannte Fehlwerte (NaN):\n",
    "- use: 4232\n",
    "- country_code: 8\n",
    "- region: 56800\n",
    "- borrower_genders: 4221\n",
    "\n",
    "Alle numerische Spalten werden in der statistischen Übersicht aufgeführt und sind numerische Datentypen, enweder Float oder Integer:  \n",
    "*kein Hinweis auf Mischdatentypen, sprich Synonyme, in diesen Spalten.*  \n",
    "Desweiteren gibt es keine unsinnigen Werte, wie extrem hohe oder Negativwerte. Minimalwerte liegen bei funded_amount und lender_count bei 0. Dies ergibt Sinn, da es für einen ausgezahlten Betrag von 0 keinen Förderer gegeben hat. Die Float Spalten sollten in der späteren Speicherreduktion auf Integer Typ gewandelt werden. Offensichtlich werden keine Cent-Beträge ausgezahlt und nur über volle Monate.\n",
    "\n",
    "Im Pairplot und der Korrelationsmatrix ist eine 1:1 Korrelation zwischen loan_amount, funded_amount und lender_count zu erkennen. Je höher der geforderte Geldbetrag, desto höher die Anzahl der Förderer. "
   ]
  },
  {
   "cell_type": "markdown",
   "metadata": {},
   "source": [
    "### Fehlende Werte\n",
    "#### Identifizieren\n",
    "Systemseitige NaN Werte sind in den nächsten zwei Zellen abgebildet. Im weiteren geht es darum Synonyme aus den object Spalten herauszufiltern."
   ]
  },
  {
   "cell_type": "code",
   "execution_count": null,
   "metadata": {
    "ExecuteTime": {
     "end_time": "2021-11-18T13:01:33.843662Z",
     "start_time": "2021-11-18T13:01:33.582764Z"
    }
   },
   "outputs": [],
   "source": [
    "df_funds.info() # welche Datentypen und ob NaN Werte vorliegen"
   ]
  },
  {
   "cell_type": "code",
   "execution_count": null,
   "metadata": {
    "ExecuteTime": {
     "end_time": "2021-11-18T13:01:34.107629Z",
     "start_time": "2021-11-18T13:01:33.844661Z"
    }
   },
   "outputs": [],
   "source": [
    "df_funds.isnull().sum()"
   ]
  },
  {
   "cell_type": "code",
   "execution_count": null,
   "metadata": {
    "ExecuteTime": {
     "end_time": "2021-11-18T13:01:34.217336Z",
     "start_time": "2021-11-18T13:01:34.109624Z"
    }
   },
   "outputs": [],
   "source": [
    "# im Voraus keine NaN gefunden\n",
    "df_funds['activity'].unique(), df_funds['activity'].nunique()\n",
    "# keine Synonyme gefunden"
   ]
  },
  {
   "cell_type": "code",
   "execution_count": null,
   "metadata": {
    "ExecuteTime": {
     "end_time": "2021-11-18T13:01:34.309091Z",
     "start_time": "2021-11-18T13:01:34.221344Z"
    }
   },
   "outputs": [],
   "source": [
    "# im Voraus keine NaN gefunden\n",
    "df_funds['sector'].unique(), df_funds['sector'].nunique()\n",
    "# keine Synonyme gefunden"
   ]
  },
  {
   "cell_type": "code",
   "execution_count": null,
   "metadata": {
    "ExecuteTime": {
     "end_time": "2021-11-18T13:01:34.630232Z",
     "start_time": "2021-11-18T13:01:34.310088Z"
    }
   },
   "outputs": [],
   "source": [
    "# im Voraus 4232 NaN gefunden\n",
    "df_funds['use'].unique(), df_funds['use'].nunique()\n",
    "# zuviele Uniques, um Synonyme herauszufinden"
   ]
  },
  {
   "cell_type": "code",
   "execution_count": null,
   "metadata": {
    "ExecuteTime": {
     "end_time": "2021-11-18T13:01:35.617739Z",
     "start_time": "2021-11-18T13:01:34.631229Z"
    }
   },
   "outputs": [],
   "source": [
    "# Zeilen von use, die mit [ beginnen\n",
    "s_use = df_funds['use'].str.contains('^\\[', case=False, na=False)\n",
    "s_use"
   ]
  },
  {
   "cell_type": "code",
   "execution_count": null,
   "metadata": {
    "ExecuteTime": {
     "end_time": "2021-11-18T13:01:35.632748Z",
     "start_time": "2021-11-18T13:01:35.618737Z"
    }
   },
   "outputs": [],
   "source": [
    "# Anzeige der Zeilen, in dem s_use True ist\n",
    "df_funds.loc[s_use, 'use']"
   ]
  },
  {
   "cell_type": "markdown",
   "metadata": {},
   "source": [
    "Selbst wenn es in der use Spalte merkwürdige Einträge gibt, sind es nur Formateigenheiten. Die Korrektur der Einträge macht keinen Sinn, der Text ist zu verstehen. Alle anderen möglichen Synonyme zu finden dauert zu lang und ist auch nicht sinnvoll. Es sind zu viele eigene Einträge und beschreibt lediglich das Projekt genauer. Diese Spalte wird in der EDA keine weitere Rolle spielen."
   ]
  },
  {
   "cell_type": "code",
   "execution_count": null,
   "metadata": {
    "ExecuteTime": {
     "end_time": "2021-11-18T13:01:35.724503Z",
     "start_time": "2021-11-18T13:01:35.633747Z"
    }
   },
   "outputs": [],
   "source": [
    "# im Voraus 8 NaN gefunden\n",
    "df_funds['country_code'].unique(), df_funds['country_code'].nunique(dropna=False)\n",
    "# keine Synonyme gefunden"
   ]
  },
  {
   "cell_type": "code",
   "execution_count": null,
   "metadata": {
    "ExecuteTime": {
     "end_time": "2021-11-18T13:01:35.833604Z",
     "start_time": "2021-11-18T13:01:35.726499Z"
    }
   },
   "outputs": [],
   "source": [
    "# im Voraus keine NaN gefunden\n",
    "df_funds['country'].unique(), df_funds['country'].nunique()\n",
    "# es gibt 87 Länder und 87 Ländercodes inklusive NaN. Passt"
   ]
  },
  {
   "cell_type": "code",
   "execution_count": null,
   "metadata": {
    "ExecuteTime": {
     "end_time": "2021-11-18T13:01:36.002652Z",
     "start_time": "2021-11-18T13:01:35.834602Z"
    }
   },
   "outputs": [],
   "source": [
    "# im Voraus 56800 NaN gefunden\n",
    "df_funds['region'].unique(), df_funds['region'].nunique()\n",
    "# zu viele unique Values, um Synonyme zu finden. \n",
    "# Regionen werden in der EDA nicht betrachtet, Länder dagegen schon."
   ]
  },
  {
   "cell_type": "code",
   "execution_count": null,
   "metadata": {
    "ExecuteTime": {
     "end_time": "2021-11-18T13:01:36.095461Z",
     "start_time": "2021-11-18T13:01:36.004647Z"
    }
   },
   "outputs": [],
   "source": [
    "# im Voraus keine NaN gefunden\n",
    "df_funds['currency'].unique(), df_funds['currency'].nunique()\n",
    "# keine Synonyme"
   ]
  },
  {
   "cell_type": "code",
   "execution_count": null,
   "metadata": {
    "ExecuteTime": {
     "end_time": "2021-11-18T13:01:36.219857Z",
     "start_time": "2021-11-18T13:01:36.096446Z"
    }
   },
   "outputs": [],
   "source": [
    "# im Voraus 4221 NaN gefunden\n",
    "df_funds['borrower_genders'].unique(), df_funds['borrower_genders'].nunique()\n",
    "# Spalte muss als Feature später neu aufbereitet werden"
   ]
  },
  {
   "cell_type": "code",
   "execution_count": null,
   "metadata": {
    "ExecuteTime": {
     "end_time": "2021-11-18T13:01:36.313608Z",
     "start_time": "2021-11-18T13:01:36.220854Z"
    }
   },
   "outputs": [],
   "source": [
    "# Vorab keine NaN erkannt\n",
    "df_funds['repayment_interval'].unique(), df_funds['repayment_interval'].nunique()\n",
    "# keine Synonyme erkannt"
   ]
  },
  {
   "cell_type": "markdown",
   "metadata": {},
   "source": [
    "**Zusammenfassung**  \n",
    "**Die Object Spalten activity, sector, country, currency und repayment_interval enthalten keine NaN und keine Synonyme. Die Spalten sind damit korrekt aufbereitet.**\n",
    "\n",
    "**Die Spalten use, country_code, region, borrower_genders enthalten NaN. Mit Ausnahme der Spalte country_code können die NaN *nicht* ersetzt werden.** Es gibt zu viele unique values, als dass man einen logischen Zusammenhang zu anderen Spalten herstellen kann. Synonyme wurden nicht gefunden, da die Menge der unique values zu groß ist, um sie schnell zu überblicken. In der späteren EDA stellt sich die Frage, ob diese Spalten überhaupt relevant sind. Die Zeilen zu löschen macht auch keinen Sinn, da sonst zu viele wertvolle Daten verloren gehen.  \n",
    "**Für die Spalte country_code kann der Wert aus anderen Zeilen mit dem selben country verwendet werden.**  \n",
    "**Die Spalte borrower_genders kann in zwei separate Spalten zerlegt werden, die die Anzahl der jeweils männlichen und weiblichen Darlehensnehmer aufnimmt.** Dies macht aber auch nur bei Zeilen ohne NaN Sinn. "
   ]
  },
  {
   "cell_type": "markdown",
   "metadata": {},
   "source": [
    "#### Beseitigen\n",
    "Wie bereits vorher ausgeführt, können nur in der country_code Spalte NaN's ersetzt werden. Dies soll im Folgenden getan werden."
   ]
  },
  {
   "cell_type": "code",
   "execution_count": null,
   "metadata": {
    "ExecuteTime": {
     "end_time": "2021-11-18T13:01:36.358488Z",
     "start_time": "2021-11-18T13:01:36.315602Z"
    }
   },
   "outputs": [],
   "source": [
    "# Anzeige der Zeilen die NaN bei country_code enthalten\n",
    "df_funds.loc[df_funds['country_code'].isnull(), ['country_code', 'country']]"
   ]
  },
  {
   "cell_type": "code",
   "execution_count": null,
   "metadata": {
    "ExecuteTime": {
     "end_time": "2021-11-18T13:01:36.420323Z",
     "start_time": "2021-11-18T13:01:36.360482Z"
    }
   },
   "outputs": [],
   "source": [
    "# Anzeige aller Zeilen die aus Namibia sind, um country_code zu finden\n",
    "df_funds.loc[df_funds['country']=='Namibia', ['country_code', 'country']]\n",
    "# alle Zeilen die als NaN identifiziert wurden sind auch aus Namibia\n",
    "# es wurde kein country_code gefunden"
   ]
  },
  {
   "cell_type": "markdown",
   "metadata": {},
   "source": [
    "Laut Wikipedia https://de.wikipedia.org/wiki/ISO-3166-1-Kodierliste#N\n",
    "ist der Ländercode nach ISO 3166 ALPHA-2 für Namibia: NA. Dieser Wert wird in die Zeilen mit NaN eingetragen."
   ]
  },
  {
   "cell_type": "code",
   "execution_count": null,
   "metadata": {
    "ExecuteTime": {
     "end_time": "2021-11-18T13:01:36.512078Z",
     "start_time": "2021-11-18T13:01:36.422317Z"
    }
   },
   "outputs": [],
   "source": [
    "df_funds.replace({'country_code':{np.nan:'NA'}}, inplace=True)\n",
    "df_funds['country_code'].isnull().sum()"
   ]
  },
  {
   "cell_type": "code",
   "execution_count": null,
   "metadata": {
    "ExecuteTime": {
     "end_time": "2021-11-18T13:01:36.572914Z",
     "start_time": "2021-11-18T13:01:36.514072Z"
    }
   },
   "outputs": [],
   "source": [
    "# Check, ob NaN durch NA ersetzt wurde\n",
    "df_funds.loc[df_funds['country']=='Namibia', ['country_code', 'country']]"
   ]
  },
  {
   "cell_type": "code",
   "execution_count": null,
   "metadata": {
    "ExecuteTime": {
     "end_time": "2021-11-18T13:01:36.604832Z",
     "start_time": "2021-11-18T13:01:36.573911Z"
    }
   },
   "outputs": [],
   "source": [
    "df_funds.tail()"
   ]
  },
  {
   "cell_type": "markdown",
   "metadata": {},
   "source": [
    "### Ausreißer\n",
    "**Ausreißer sind in diesem Zusammenhang nicht zu betrachten.**  \n",
    "Hier ist jedes Projekt einzigartig. Es wird nicht eine Gruppe von Messwerten betrachtet, sondern eigenständige Angaben der Darlehensnehmer/Firmenmitarbeiter individuell zu jedem Projekt. Hohe Geldbeträge, lange Laufzeiten und eine größere Anzahl an Förderern sind zu erwarten. Es wird aber später auf einzelne Projekte geschaut, die beispielsweise keine Förderung bekommen haben, die am meisten Geld angefragt haben und solche, die eine lange Laufzeit haben."
   ]
  },
  {
   "cell_type": "markdown",
   "metadata": {},
   "source": [
    "### Features: Spalten mit neuem Informationsgehalt\n",
    "#### borrower_genders\n",
    "Die einzige Spalte mit zu viel Inhalt ist die borrower_genders. Im Folgenden werden die Informationen daraus in neue Spalten überführt, die die Anzahl der männlichen und weiblichen Darlehensnehmer beinhalten. Somit erhält man einen Einblick in die Größe der Mitarbeiter des Crowdfundingprojekts."
   ]
  },
  {
   "cell_type": "code",
   "execution_count": null,
   "metadata": {
    "ExecuteTime": {
     "end_time": "2021-11-18T13:01:36.680626Z",
     "start_time": "2021-11-18T13:01:36.606823Z"
    }
   },
   "outputs": [],
   "source": [
    "# Versuch die borrower gender in String zu casten\n",
    "df_funds['borrower_genders'] = df_funds['borrower_genders'].astype('string')"
   ]
  },
  {
   "cell_type": "code",
   "execution_count": null,
   "metadata": {
    "ExecuteTime": {
     "end_time": "2021-11-18T13:01:36.695586Z",
     "start_time": "2021-11-18T13:01:36.682620Z"
    }
   },
   "outputs": [],
   "source": [
    "from collections import Counter\n",
    "my_string = 'male'\n",
    "my_list = my_string.split(', ')\n",
    "c = Counter(my_list)\n",
    "c, c['male']\n",
    "# Counterdict beinhaltet die Anzahl der unique keys"
   ]
  },
  {
   "cell_type": "code",
   "execution_count": null,
   "metadata": {
    "ExecuteTime": {
     "end_time": "2021-11-18T13:01:40.465103Z",
     "start_time": "2021-11-18T13:01:36.697580Z"
    }
   },
   "outputs": [],
   "source": [
    "# Schreibe in Liste die Counterdicts pro Eintrag in borrower_genders Spalte\n",
    "l_borrower_genders = []\n",
    "l_others = []\n",
    "s_borrower_genders = set()\n",
    "for element in df_funds['borrower_genders']: # gehe durch alle Elemente von borrower_genders\n",
    "    try:\n",
    "        my_list = element.split(', ')   # versuch String zu splitten ob mit oder ohne Komma\n",
    "        c=Counter(my_list)\n",
    "        l_borrower_genders.append(c)  # Füge das Counterdict in die neue Liste\n",
    "    except:\n",
    "        l_others.append(element)  # füge alle anderen Einträge in eine andere Liste"
   ]
  },
  {
   "cell_type": "code",
   "execution_count": null,
   "metadata": {
    "ExecuteTime": {
     "end_time": "2021-11-18T13:01:40.480703Z",
     "start_time": "2021-11-18T13:01:40.467737Z"
    }
   },
   "outputs": [],
   "source": [
    "Counter(l_others), len(l_borrower_genders), 4221+666984\n",
    "# Check, neben NaN kommen nur Strings vor"
   ]
  },
  {
   "cell_type": "code",
   "execution_count": null,
   "metadata": {
    "ExecuteTime": {
     "end_time": "2021-11-18T13:01:40.838451Z",
     "start_time": "2021-11-18T13:01:40.483695Z"
    }
   },
   "outputs": [],
   "source": [
    "for i in l_borrower_genders:\n",
    "    for j in i.keys():\n",
    "        s_borrower_genders.add(j)\n",
    "s_borrower_genders\n",
    "# Check die unique Keys der Dictionary keys sind nur male oder female"
   ]
  },
  {
   "cell_type": "code",
   "execution_count": null,
   "metadata": {
    "ExecuteTime": {
     "end_time": "2021-11-18T13:01:43.869490Z",
     "start_time": "2021-11-18T13:01:40.839447Z"
    }
   },
   "outputs": [],
   "source": [
    "# Schreibe in neue male und female Listen die Anzahl der jeweils males und females\n",
    "l_female = []\n",
    "l_male = []\n",
    "for element in df_funds['borrower_genders']: # gehe durch alle Elemente von borrower_genders\n",
    "    try:\n",
    "        my_list = element.split(', ')   # versuch String zu splitten ob mit oder ohne Komma\n",
    "        c=Counter(my_list)\n",
    "        l_female.append(c['female'])\n",
    "        l_male.append(c['male'])\n",
    "    except:\n",
    "        l_male.append(0)  \n",
    "        l_female.append(0)\n",
    "\n",
    "# füge neue Listen als Spalten ein\n",
    "df_funds['female_count'] = l_female\n",
    "df_funds['male_count'] = l_male"
   ]
  },
  {
   "cell_type": "code",
   "execution_count": null,
   "metadata": {
    "ExecuteTime": {
     "end_time": "2021-11-18T13:01:43.961056Z",
     "start_time": "2021-11-18T13:01:43.871483Z"
    }
   },
   "outputs": [],
   "source": [
    "df_funds.loc[df_funds['borrower_genders'].isnull(), ['borrower_genders', 'female_count', 'male_count']]"
   ]
  },
  {
   "cell_type": "markdown",
   "metadata": {},
   "source": [
    "#### Wo wurde nicht vollständig finanziert: Differenz\n",
    "Es wird die Differenz als difference_amount angegeben, um die Geldbeträge zu sehen, welche für die erfolgreiche Finanzierung gefehlt haben."
   ]
  },
  {
   "cell_type": "code",
   "execution_count": null,
   "metadata": {
    "ExecuteTime": {
     "end_time": "2021-11-18T13:01:43.991970Z",
     "start_time": "2021-11-18T13:01:43.963046Z"
    }
   },
   "outputs": [],
   "source": [
    "df_funds.insert(2, 'difference_amount', df_funds['loan_amount'] - df_funds['funded_amount'])\n",
    "df_funds.head(1)"
   ]
  },
  {
   "cell_type": "markdown",
   "metadata": {},
   "source": [
    "#### Erfolgsquote\n",
    "Die Erfolgsquote wird als Verhältnis funded_amount zu loan_amount dargestellt."
   ]
  },
  {
   "cell_type": "code",
   "execution_count": null,
   "metadata": {
    "ExecuteTime": {
     "end_time": "2021-11-18T13:01:44.022886Z",
     "start_time": "2021-11-18T13:01:43.993970Z"
    },
    "scrolled": true
   },
   "outputs": [],
   "source": [
    "df_funds.insert(3, 'success_rate', df_funds['funded_amount']/df_funds['loan_amount']*100)\n",
    "df_funds.head(1)"
   ]
  },
  {
   "cell_type": "code",
   "execution_count": null,
   "metadata": {
    "ExecuteTime": {
     "end_time": "2021-11-18T13:01:44.054801Z",
     "start_time": "2021-11-18T13:01:44.023884Z"
    }
   },
   "outputs": [],
   "source": [
    "df_funds['success_rate'].unique()"
   ]
  },
  {
   "cell_type": "markdown",
   "metadata": {},
   "source": [
    "#### Finanzierungsstatus\n",
    "Es werden Kategorien von nicht finanziert bis überfinanziert eingetragen."
   ]
  },
  {
   "cell_type": "code",
   "execution_count": null,
   "metadata": {
    "ExecuteTime": {
     "end_time": "2021-11-18T13:01:44.086718Z",
     "start_time": "2021-11-18T13:01:44.055798Z"
    }
   },
   "outputs": [],
   "source": [
    "kategorien = ['unfunded','partially funded','funded','overfunded']\n",
    "# df_funds.drop('funding_status', axis=1, inplace=True)\n",
    "df_funds.insert(4, 'funding_status', pd.cut(df_funds['success_rate'],bins=[-1,0,99.9999,100,np.inf], labels=kategorien))"
   ]
  },
  {
   "cell_type": "code",
   "execution_count": null,
   "metadata": {
    "ExecuteTime": {
     "end_time": "2021-11-18T13:01:44.134101Z",
     "start_time": "2021-11-18T13:01:44.088711Z"
    }
   },
   "outputs": [],
   "source": [
    "df_funds.loc[df_funds['success_rate']>100, ['success_rate', 'funding_status']]"
   ]
  },
  {
   "cell_type": "markdown",
   "metadata": {
    "ExecuteTime": {
     "end_time": "2021-11-16T10:30:09.039959Z",
     "start_time": "2021-11-16T10:30:09.011037Z"
    }
   },
   "source": [
    "#### Durchschnittlicher Betrag pro Darlehensgeber\n",
    "Der durchschnittlicher Betrag pro Darlehensgeber ergibt sich aus dem Verhältnis von funded_amount zu lender_count."
   ]
  },
  {
   "cell_type": "code",
   "execution_count": null,
   "metadata": {
    "ExecuteTime": {
     "end_time": "2021-11-18T13:01:44.211894Z",
     "start_time": "2021-11-18T13:01:44.135098Z"
    }
   },
   "outputs": [],
   "source": [
    "# df_funds.drop('avg_lender_amount', axis=1, inplace=True)\n",
    "df_funds.insert(13, 'avg_lender_amount', round(df_funds['funded_amount']/df_funds['lender_count'], 2))\n",
    "df_funds.head(1)"
   ]
  },
  {
   "cell_type": "code",
   "execution_count": null,
   "metadata": {
    "ExecuteTime": {
     "end_time": "2021-11-18T13:01:44.256772Z",
     "start_time": "2021-11-18T13:01:44.213888Z"
    }
   },
   "outputs": [],
   "source": [
    "df_funds.replace({'avg_lender_amount':{np.nan:0}}, inplace=True)"
   ]
  },
  {
   "cell_type": "markdown",
   "metadata": {},
   "source": [
    "### Speicherplatz optimieren\n",
    "#### Speicherplatz optimierte Kopie des DataFrames"
   ]
  },
  {
   "cell_type": "code",
   "execution_count": null,
   "metadata": {
    "ExecuteTime": {
     "end_time": "2021-11-18T13:01:44.318608Z",
     "start_time": "2021-11-18T13:01:44.257770Z"
    }
   },
   "outputs": [],
   "source": [
    "df_funds_opti = df_funds.copy()"
   ]
  },
  {
   "cell_type": "code",
   "execution_count": null,
   "metadata": {
    "ExecuteTime": {
     "end_time": "2021-11-18T13:01:44.333570Z",
     "start_time": "2021-11-18T13:01:44.320602Z"
    }
   },
   "outputs": [],
   "source": [
    "df_funds_opti.dtypes"
   ]
  },
  {
   "cell_type": "code",
   "execution_count": null,
   "metadata": {
    "ExecuteTime": {
     "end_time": "2021-11-18T13:01:45.059039Z",
     "start_time": "2021-11-18T13:01:44.335563Z"
    }
   },
   "outputs": [],
   "source": [
    "df_funds_opti.memory_usage(deep=True)"
   ]
  },
  {
   "cell_type": "markdown",
   "metadata": {},
   "source": [
    "#### Floats in Integer"
   ]
  },
  {
   "cell_type": "code",
   "execution_count": null,
   "metadata": {
    "ExecuteTime": {
     "end_time": "2021-11-18T13:01:48.952469Z",
     "start_time": "2021-11-18T13:01:45.061032Z"
    }
   },
   "outputs": [],
   "source": [
    "# Prüfe Nachkommastallen\n",
    "import numbers\n",
    "for c in df_funds_opti:\n",
    "    for i in df_funds_opti[c]:\n",
    "        if isinstance(i, numbers.Number):\n",
    "            if i % 1 != 0:\n",
    "                print(f'{c} hat eine Nachkommastelle!')\n",
    "                break\n",
    "            else:\n",
    "                break"
   ]
  },
  {
   "cell_type": "code",
   "execution_count": null,
   "metadata": {
    "ExecuteTime": {
     "end_time": "2021-11-18T13:01:49.015301Z",
     "start_time": "2021-11-18T13:01:48.954465Z"
    }
   },
   "outputs": [],
   "source": [
    "l_floats = ['funded_amount', 'loan_amount', 'term_in_months', 'difference_amount']\n",
    "for i in l_floats:\n",
    "    df_funds_opti[i] = df_funds_opti[i].astype(int)"
   ]
  },
  {
   "cell_type": "code",
   "execution_count": null,
   "metadata": {
    "ExecuteTime": {
     "end_time": "2021-11-18T13:01:49.031258Z",
     "start_time": "2021-11-18T13:01:49.017297Z"
    }
   },
   "outputs": [],
   "source": [
    "df_funds_opti.dtypes"
   ]
  },
  {
   "cell_type": "markdown",
   "metadata": {},
   "source": [
    "#### Object in Category"
   ]
  },
  {
   "cell_type": "code",
   "execution_count": null,
   "metadata": {
    "ExecuteTime": {
     "end_time": "2021-11-18T13:01:49.572320Z",
     "start_time": "2021-11-18T13:01:49.033255Z"
    }
   },
   "outputs": [],
   "source": [
    "l_category = ['sector', 'repayment_interval', 'country', 'country_code', 'currency', 'activity']\n",
    "for i in l_category:\n",
    "    df_funds_opti[i] = df_funds_opti[i].astype('category')\n",
    "df_funds_opti.dtypes"
   ]
  },
  {
   "cell_type": "markdown",
   "metadata": {},
   "source": [
    "#### Float64 in Float32"
   ]
  },
  {
   "cell_type": "code",
   "execution_count": null,
   "metadata": {
    "ExecuteTime": {
     "end_time": "2021-11-18T13:01:49.619194Z",
     "start_time": "2021-11-18T13:01:49.573317Z"
    }
   },
   "outputs": [],
   "source": [
    "df_funds_opti.loc[:, ['success_rate', 'avg_lender_amount']] = \\\n",
    "df_funds_opti.loc[:, ['success_rate', 'avg_lender_amount']].apply(pd.to_numeric, downcast=\"float\")\n",
    "df_funds_opti.dtypes"
   ]
  },
  {
   "cell_type": "markdown",
   "metadata": {},
   "source": [
    "#### Spalten löschen"
   ]
  },
  {
   "cell_type": "code",
   "execution_count": null,
   "metadata": {
    "ExecuteTime": {
     "end_time": "2021-11-18T13:01:49.681029Z",
     "start_time": "2021-11-18T13:01:49.621188Z"
    }
   },
   "outputs": [],
   "source": [
    "# borrower_genders Spalte löschen\n",
    "df_funds_opti.drop('borrower_genders', axis=1, inplace=True)\n",
    "df_funds_opti.dtypes"
   ]
  },
  {
   "cell_type": "markdown",
   "metadata": {},
   "source": [
    "#### Berechnung der Reduktion des Speicherplatzes"
   ]
  },
  {
   "cell_type": "code",
   "execution_count": null,
   "metadata": {
    "ExecuteTime": {
     "end_time": "2021-11-18T13:01:50.482621Z",
     "start_time": "2021-11-18T13:01:49.682025Z"
    }
   },
   "outputs": [],
   "source": [
    "# Überblick\n",
    "df_funds.memory_usage(deep=True), df_funds_opti.memory_usage(deep=True)"
   ]
  },
  {
   "cell_type": "code",
   "execution_count": null,
   "metadata": {
    "ExecuteTime": {
     "end_time": "2021-11-18T13:01:51.942009Z",
     "start_time": "2021-11-18T13:01:50.488246Z"
    }
   },
   "outputs": [],
   "source": [
    "# gesamte in-memory-Speicherplatzreduzierung\n",
    "\n",
    "reduction = (df_funds.memory_usage(deep=True).sum()-df_funds_opti.memory_usage(deep=True).sum())/df_funds.memory_usage(deep=True).sum()\n",
    "\n",
    "print(f\"{reduction:0f}\")"
   ]
  },
  {
   "cell_type": "markdown",
   "metadata": {},
   "source": [
    "#### Sicherung des Speicherplatzoptimierten DataFrames als .pkl-Datei"
   ]
  },
  {
   "cell_type": "code",
   "execution_count": null,
   "metadata": {
    "ExecuteTime": {
     "end_time": "2021-11-18T13:01:52.184376Z",
     "start_time": "2021-11-18T13:01:51.942999Z"
    }
   },
   "outputs": [],
   "source": [
    "df_funds_opti.to_pickle('funds_after_preprocessing.pkl')"
   ]
  },
  {
   "cell_type": "code",
   "execution_count": null,
   "metadata": {},
   "outputs": [],
   "source": []
  }
 ],
 "metadata": {
  "hide_input": false,
  "kernelspec": {
   "display_name": "Python 3",
   "language": "python",
   "name": "python3"
  },
  "language_info": {
   "codemirror_mode": {
    "name": "ipython",
    "version": 3
   },
   "file_extension": ".py",
   "mimetype": "text/x-python",
   "name": "python",
   "nbconvert_exporter": "python",
   "pygments_lexer": "ipython3",
   "version": "3.8.3"
  },
  "nbTranslate": {
   "displayLangs": [
    "*"
   ],
   "hotkey": "alt-t",
   "langInMainMenu": true,
   "sourceLang": "en",
   "targetLang": "fr",
   "useGoogleTranslate": true
  },
  "toc": {
   "base_numbering": 1,
   "nav_menu": {},
   "number_sections": true,
   "sideBar": true,
   "skip_h1_title": false,
   "title_cell": "Table of Contents",
   "title_sidebar": "Contents",
   "toc_cell": false,
   "toc_position": {
    "height": "calc(100% - 180px)",
    "left": "10px",
    "top": "150px",
    "width": "384px"
   },
   "toc_section_display": true,
   "toc_window_display": true
  },
  "varInspector": {
   "cols": {
    "lenName": 16,
    "lenType": 16,
    "lenVar": 40
   },
   "kernels_config": {
    "python": {
     "delete_cmd_postfix": "",
     "delete_cmd_prefix": "del ",
     "library": "var_list.py",
     "varRefreshCmd": "print(var_dic_list())"
    },
    "r": {
     "delete_cmd_postfix": ") ",
     "delete_cmd_prefix": "rm(",
     "library": "var_list.r",
     "varRefreshCmd": "cat(var_dic_list()) "
    }
   },
   "types_to_exclude": [
    "module",
    "function",
    "builtin_function_or_method",
    "instance",
    "_Feature"
   ],
   "window_display": false
  }
 },
 "nbformat": 4,
 "nbformat_minor": 4
}
